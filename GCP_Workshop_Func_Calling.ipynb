{
  "nbformat": 4,
  "nbformat_minor": 0,
  "metadata": {
    "colab": {
      "provenance": [],
      "authorship_tag": "ABX9TyP2eXQMfooNWtt9/cmBTClZ",
      "include_colab_link": true
    },
    "kernelspec": {
      "name": "python3",
      "display_name": "Python 3"
    },
    "language_info": {
      "name": "python"
    }
  },
  "cells": [
    {
      "cell_type": "markdown",
      "metadata": {
        "id": "view-in-github",
        "colab_type": "text"
      },
      "source": [
        "<a href=\"https://colab.research.google.com/github/melvinlkl/urban-succotash/blob/main/GCP_Workshop_Func_Calling.ipynb\" target=\"_parent\"><img src=\"https://colab.research.google.com/assets/colab-badge.svg\" alt=\"Open In Colab\"/></a>"
      ]
    },
    {
      "cell_type": "markdown",
      "source": [
        "# **Create An Agent with Gemini's Function Calling**"
      ],
      "metadata": {
        "id": "jVQI1KmSKaZk"
      }
    },
    {
      "cell_type": "markdown",
      "source": [
        "Credits: https://github.com/iamthuya/google-cloud-workshops/blob/main/ai-agents/gemini/creating_an_agent_with_function_calling.ipynb"
      ],
      "metadata": {
        "id": "eB6fSCLHLtYk"
      }
    },
    {
      "cell_type": "code",
      "source": [
        "! pip install --upgrade --quiet --user google-cloud-aiplatform"
      ],
      "metadata": {
        "colab": {
          "base_uri": "https://localhost:8080/"
        },
        "id": "USY1FJH4KfPD",
        "outputId": "eba11def-a1f9-4c2a-f324-b67a866024d7"
      },
      "execution_count": null,
      "outputs": [
        {
          "output_type": "stream",
          "name": "stdout",
          "text": [
            "\u001b[?25l   \u001b[90m━━━━━━━━━━━━━━━━━━━━━━━━━━━━━━━━━━━━━━━━\u001b[0m \u001b[32m0.0/6.9 MB\u001b[0m \u001b[31m?\u001b[0m eta \u001b[36m-:--:--\u001b[0m\r\u001b[2K   \u001b[91m━━━\u001b[0m\u001b[90m╺\u001b[0m\u001b[90m━━━━━━━━━━━━━━━━━━━━━━━━━━━━━━━━━━━━\u001b[0m \u001b[32m0.5/6.9 MB\u001b[0m \u001b[31m15.9 MB/s\u001b[0m eta \u001b[36m0:00:01\u001b[0m\r\u001b[2K   \u001b[91m━━━━━━━━━━━━━━━━━\u001b[0m\u001b[90m╺\u001b[0m\u001b[90m━━━━━━━━━━━━━━━━━━━━━━\u001b[0m \u001b[32m2.9/6.9 MB\u001b[0m \u001b[31m41.8 MB/s\u001b[0m eta \u001b[36m0:00:01\u001b[0m\r\u001b[2K   \u001b[91m━━━━━━━━━━━━━━━━━━━━━━━━━━━━━━━━━━━━━━━\u001b[0m\u001b[91m╸\u001b[0m \u001b[32m6.9/6.9 MB\u001b[0m \u001b[31m65.5 MB/s\u001b[0m eta \u001b[36m0:00:01\u001b[0m\r\u001b[2K   \u001b[91m━━━━━━━━━━━━━━━━━━━━━━━━━━━━━━━━━━━━━━━\u001b[0m\u001b[91m╸\u001b[0m \u001b[32m6.9/6.9 MB\u001b[0m \u001b[31m65.5 MB/s\u001b[0m eta \u001b[36m0:00:01\u001b[0m\r\u001b[2K   \u001b[90m━━━━━━━━━━━━━━━━━━━━━━━━━━━━━━━━━━━━━━━━\u001b[0m \u001b[32m6.9/6.9 MB\u001b[0m \u001b[31m46.1 MB/s\u001b[0m eta \u001b[36m0:00:00\u001b[0m\n",
            "\u001b[?25h\u001b[33m  WARNING: The script tb-gcp-uploader is installed in '/root/.local/bin' which is not on PATH.\n",
            "  Consider adding this directory to PATH or, if you prefer to suppress this warning, use --no-warn-script-location.\u001b[0m\u001b[33m\n",
            "\u001b[0m"
          ]
        }
      ]
    },
    {
      "cell_type": "code",
      "source": [
        "import IPython\n",
        "\n",
        "app = IPython.Application.instance()\n",
        "app.kernel.do_shutdown(True)"
      ],
      "metadata": {
        "colab": {
          "base_uri": "https://localhost:8080/"
        },
        "id": "WpLEH7CpKucD",
        "outputId": "e266583e-ee91-4f84-bc07-3df77e7b9ee2"
      },
      "execution_count": null,
      "outputs": [
        {
          "output_type": "execute_result",
          "data": {
            "text/plain": [
              "{'status': 'ok', 'restart': True}"
            ]
          },
          "metadata": {},
          "execution_count": 2
        }
      ]
    },
    {
      "cell_type": "code",
      "source": [
        "from google.colab import auth\n",
        "\n",
        "auth.authenticate_user()"
      ],
      "metadata": {
        "id": "2E0A7R57KvjL"
      },
      "execution_count": null,
      "outputs": []
    },
    {
      "cell_type": "code",
      "source": [
        "import vertexai\n",
        "\n",
        "PROJECT_ID = \"project-id\"  # @param {type:\"string\"}\n",
        "LOCATION = \"us-central1\"  # @param {type:\"string\"}\n",
        "\n",
        "assert PROJECT_ID != \"your-project-id\", \"Please input your project id\"\n",
        "assert LOCATION != \"your-location\", \"Please input your project location\"\n",
        "\n",
        "vertexai.init(project=PROJECT_ID, location=LOCATION)"
      ],
      "metadata": {
        "id": "cIJXQskLK2CZ"
      },
      "execution_count": null,
      "outputs": []
    },
    {
      "cell_type": "code",
      "source": [
        "import requests\n",
        "\n",
        "from vertexai.generative_models import (\n",
        "    GenerativeModel,\n",
        "    FunctionDeclaration,\n",
        "    Tool,\n",
        "    Part,\n",
        ")"
      ],
      "metadata": {
        "id": "6jhGEpQoK5ka"
      },
      "execution_count": null,
      "outputs": []
    },
    {
      "cell_type": "code",
      "source": [
        "# create an agent\n",
        "agent = GenerativeModel(\n",
        "    model_name=\"gemini-1.5-flash\"\n",
        ")\n",
        "\n",
        "# start a chat session\n",
        "chat = agent.start_chat()\n",
        "\n",
        "# ask the agent about exchange rate\n",
        "prompt = \"what's the current exchange rate of SGD to KRW?\"\n",
        "response = chat.send_message(prompt)\n",
        "\n",
        "# display the response\n",
        "response.candidates[0].content.parts[0]"
      ],
      "metadata": {
        "colab": {
          "base_uri": "https://localhost:8080/"
        },
        "id": "ZTNTRQwqK5yY",
        "outputId": "004868cc-1020-4c17-8458-58739d554ab4"
      },
      "execution_count": null,
      "outputs": [
        {
          "output_type": "execute_result",
          "data": {
            "text/plain": [
              "text: \"I do not have access to real-time information, including live currency exchange rates. \\n\\nTo get the most up-to-date exchange rate for SGD to KRW, I recommend checking a reliable online currency converter like:\\n\\n* **Google Finance:** Just search \\\"SGD to KRW\\\" on Google.\\n* **XE.com:** A popular website for currency information.\\n* **Yahoo Finance:** Another reputable source for financial data.\\n\\nRemember that exchange rates fluctuate constantly, so the rate you see at one moment may be different just a few minutes later. \\n\""
            ]
          },
          "metadata": {},
          "execution_count": 6
        }
      ]
    },
    {
      "cell_type": "code",
      "source": [
        "# define a function to get exchange rate\n",
        "def get_fx_rate(base_currency: str, target_currency: str):\n",
        "    \"\"\"\n",
        "    Fetches the current exchange rate between two currencies.\n",
        "\n",
        "    Args:\n",
        "        base_currency: The base currency (e.g., \"USD\").\n",
        "        target_currency: The target currency (e.g., \"SGD\").\n",
        "\n",
        "    Returns:\n",
        "        The exchange rate information as a json response,\n",
        "        or None if the rate could not be fetched.\n",
        "    \"\"\"\n",
        "\n",
        "    url = f\"https://hexarate.paikama.co/api/rates/latest/{base_currency}?target={target_currency}\"\n",
        "    response = requests.get(url)\n",
        "    if response.status_code == 200:\n",
        "        return response.json()\n",
        "\n",
        "\n",
        "# test the function\n",
        "get_fx_rate(\"SGD\", \"KRW\")"
      ],
      "metadata": {
        "colab": {
          "base_uri": "https://localhost:8080/"
        },
        "id": "1T1nFdGSK52X",
        "outputId": "c41946fe-7a8b-4eff-b28e-6f3fa6f8c292"
      },
      "execution_count": null,
      "outputs": [
        {
          "output_type": "execute_result",
          "data": {
            "text/plain": [
              "{'status_code': 200,\n",
              " 'data': {'base': 'SGD',\n",
              "  'target': 'KRW',\n",
              "  'mid': 1072.44,\n",
              "  'unit': 1,\n",
              "  'timestamp': '2024-12-25T08:58:13.528Z'}}"
            ]
          },
          "metadata": {},
          "execution_count": 7
        }
      ]
    },
    {
      "cell_type": "code",
      "source": [
        "# initialize function declaration\n",
        "fd_get_fx_rate = FunctionDeclaration(\n",
        "    name = \"get_fx_rate\",\n",
        "    description = \"Fetches the current exchange rate between two currencies.\",\n",
        "    parameters = {\n",
        "        \"type\" : \"object\",\n",
        "        \"properties\" : {\n",
        "            \"base_currency\": {\n",
        "                \"type\": \"string\",\n",
        "                \"description\": \"The base currency (e.g., 'USD')\"\n",
        "            },\n",
        "            \"target_currency\": {\n",
        "                \"type\": \"string\",\n",
        "                \"description\": \"The target currency (e.g., 'SGD')\"\n",
        "            },\n",
        "        },\n",
        "    }\n",
        ")"
      ],
      "metadata": {
        "id": "OJG-iB_wK543"
      },
      "execution_count": null,
      "outputs": []
    },
    {
      "cell_type": "code",
      "source": [
        "# create a tool with the function declaration\n",
        "currency_tool = Tool(\n",
        "    function_declarations=[\n",
        "        fd_get_fx_rate\n",
        "    ]\n",
        ")"
      ],
      "metadata": {
        "id": "WEc7OGXJK57N"
      },
      "execution_count": null,
      "outputs": []
    },
    {
      "cell_type": "code",
      "source": [
        "# create an agent with the currency tool\n",
        "agent = GenerativeModel(\n",
        "    model_name=\"gemini-1.5-flash\",\n",
        "    tools=[currency_tool],\n",
        ")\n",
        "\n",
        "# start a chat session\n",
        "chat = agent.start_chat()\n",
        "\n",
        "# ask the agent about exchange rate\n",
        "response = chat.send_message(prompt)\n",
        "\n",
        "# display the response\n",
        "response.candidates[0].content.parts[0]"
      ],
      "metadata": {
        "colab": {
          "base_uri": "https://localhost:8080/"
        },
        "id": "FkLZnV1LK59m",
        "outputId": "a718c2f8-77ca-4e60-822f-08e34e20d3ed"
      },
      "execution_count": null,
      "outputs": [
        {
          "output_type": "execute_result",
          "data": {
            "text/plain": [
              "function_call {\n",
              "  name: \"get_fx_rate\"\n",
              "  args {\n",
              "    fields {\n",
              "      key: \"target_currency\"\n",
              "      value {\n",
              "        string_value: \"KRW\"\n",
              "      }\n",
              "    }\n",
              "    fields {\n",
              "      key: \"base_currency\"\n",
              "      value {\n",
              "        string_value: \"SGD\"\n",
              "      }\n",
              "    }\n",
              "  }\n",
              "}"
            ]
          },
          "metadata": {},
          "execution_count": 10
        }
      ]
    },
    {
      "cell_type": "code",
      "source": [
        "response.candidates[0].content.parts[0].function_call"
      ],
      "metadata": {
        "colab": {
          "base_uri": "https://localhost:8080/"
        },
        "id": "0sdZ1lzNLYEU",
        "outputId": "692e6f50-217f-4053-c95b-0839b6fc49e4"
      },
      "execution_count": null,
      "outputs": [
        {
          "output_type": "execute_result",
          "data": {
            "text/plain": [
              "name: \"get_fx_rate\"\n",
              "args {\n",
              "  fields {\n",
              "    key: \"target_currency\"\n",
              "    value {\n",
              "      string_value: \"KRW\"\n",
              "    }\n",
              "  }\n",
              "  fields {\n",
              "    key: \"base_currency\"\n",
              "    value {\n",
              "      string_value: \"SGD\"\n",
              "    }\n",
              "  }\n",
              "}"
            ]
          },
          "metadata": {},
          "execution_count": 11
        }
      ]
    },
    {
      "cell_type": "code",
      "source": [
        "# assign function name and arguments as provided in the function call response\n",
        "func_name = response.candidates[0].content.parts[0].function_call.name\n",
        "func_args = response.candidates[0].content.parts[0].function_call.args\n",
        "\n",
        "# call the function to get the exchange rate information\n",
        "fx_rate_json = globals()[func_name](**func_args)\n",
        "fx_rate_json"
      ],
      "metadata": {
        "colab": {
          "base_uri": "https://localhost:8080/"
        },
        "id": "iWBDM2LSLYKy",
        "outputId": "d32fcce1-e72a-4ce0-e711-8ebd2797110d"
      },
      "execution_count": null,
      "outputs": [
        {
          "output_type": "execute_result",
          "data": {
            "text/plain": [
              "{'status_code': 200,\n",
              " 'data': {'base': 'SGD',\n",
              "  'target': 'KRW',\n",
              "  'mid': 1072.44,\n",
              "  'unit': 1,\n",
              "  'timestamp': '2024-12-25T08:58:13.528Z'}}"
            ]
          },
          "metadata": {},
          "execution_count": 12
        }
      ]
    },
    {
      "cell_type": "code",
      "source": [
        "# provide function's response to the chat instance\n",
        "response = chat.send_message(\n",
        "    Part.from_function_response(\n",
        "        name=func_name,\n",
        "        response={\n",
        "            \"content\": fx_rate_json,\n",
        "        },\n",
        "    ),\n",
        ")\n",
        "\n",
        "response.text"
      ],
      "metadata": {
        "colab": {
          "base_uri": "https://localhost:8080/",
          "height": 35
        },
        "id": "O75p15GALYM8",
        "outputId": "419ccf81-984d-4e5c-e318-579462d62836"
      },
      "execution_count": null,
      "outputs": [
        {
          "output_type": "execute_result",
          "data": {
            "text/plain": [
              "'The current exchange rate of SGD to KRW is 1072.44 KRW per SGD. \\n'"
            ],
            "application/vnd.google.colaboratory.intrinsic+json": {
              "type": "string"
            }
          },
          "metadata": {},
          "execution_count": 15
        }
      ]
    },
    {
      "cell_type": "code",
      "source": [],
      "metadata": {
        "id": "8TM6WxjqLYPL"
      },
      "execution_count": null,
      "outputs": []
    },
    {
      "cell_type": "code",
      "source": [],
      "metadata": {
        "id": "_2i-xS5pLYRS"
      },
      "execution_count": null,
      "outputs": []
    }
  ]
}